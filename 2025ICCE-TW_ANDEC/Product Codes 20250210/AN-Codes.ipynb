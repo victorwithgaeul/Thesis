{
 "cells": [
  {
   "cell_type": "markdown",
   "metadata": {},
   "source": [
    "# <center>ANBNN: AN Codes for Ternary-Coded Binarisied Neural Network</center>\n",
    "<center>TestLab, NCUE, Taiwan</center>\n",
    "<center>2020/12/15</center>\n",
    "\n",
    "* References\n",
    "* http://www.ecs.umass.edu/ece/koren/FaultTolerantSystems/simulator/Arith/arithcode.html\n",
    "* https://en.wikipedia.org/wiki/AN_codes"
   ]
  },
  {
   "cell_type": "code",
   "execution_count": null,
   "metadata": {},
   "outputs": [],
   "source": [
    "from TCB import *\n",
    "from math import *\n",
    "a = 15*32+7\n",
    "t = Bin2TCB(a)\n",
    "b = TCB2Bin(t)\n",
    "s = '{0:b}'.format(b)\n",
    "a, b, t, Weight(a), SWeight(t), s"
   ]
  },
  {
   "cell_type": "code",
   "execution_count": null,
   "metadata": {},
   "outputs": [],
   "source": [
    "from RNS import *\n",
    "a = 120\n",
    "b = 84\n",
    "gcd(a,b), lcm(a, b)"
   ]
  },
  {
   "cell_type": "code",
   "execution_count": null,
   "metadata": {},
   "outputs": [],
   "source": [
    "import math\n",
    "def isPrime(n):\n",
    "    p=1\n",
    "    i=2\n",
    "    while (i * i <= n):\n",
    "        if math.gcd(i, n)!=1:\n",
    "            p=0\n",
    "        i += 1\n",
    "    return p\n",
    "\n",
    "def primes(N):\n",
    "    p = []\n",
    "    for i in range(2, N+1):\n",
    "        if isPrime(i):\n",
    "            p.append(i)\n",
    "    return p\n",
    "print(primes(1000))"
   ]
  },
  {
   "cell_type": "code",
   "execution_count": null,
   "metadata": {},
   "outputs": [],
   "source": [
    "### Sieve of Eratosthenes (愛氏篩法、質數篩法):\n",
    "def sievePrimes(n): \n",
    "    prime = [True for i in range(n + 1)] \n",
    "    prime[0]= False\n",
    "    prime[1]= False\n",
    "    p = 2\n",
    "    while (p * p <= n): \n",
    "        if (prime[p] == True): \n",
    "            for i in range(p * 2, n + 1, p): \n",
    "                prime[i] = False\n",
    "        p += 1\n",
    "    for p in range(n + 1): \n",
    "        if prime[p]: \n",
    "            print(p, end=' ')\n",
    "sievePrimes(1000)"
   ]
  },
  {
   "cell_type": "code",
   "execution_count": null,
   "metadata": {},
   "outputs": [],
   "source": [
    "#(2^n-1)為質數者\n",
    "def primeMBN(n):\n",
    "    p=[]\n",
    "    for i in range(2, n+1):\n",
    "        N = 2**i -1\n",
    "        if isPrime(N):\n",
    "            p.append([i, N])\n",
    "    return p\n",
    "print(primeMBN(32))"
   ]
  },
  {
   "cell_type": "code",
   "execution_count": null,
   "metadata": {},
   "outputs": [],
   "source": [
    "#質因數分解遞迴演算法\n",
    "def defactor(p, n):\n",
    "    if(p>math.sqrt(n)):\n",
    "        return [n]\n",
    "    elif math.gcd(p, n)==p:\n",
    "        return [p] + defactor(p, n//p)\n",
    "    else:\n",
    "        return defactor(p+1, n)\n",
    "defactor(2, 2873150280), defactor(2, 12345678)"
   ]
  },
  {
   "cell_type": "code",
   "execution_count": null,
   "metadata": {},
   "outputs": [],
   "source": [
    "# 質因數分解\n",
    "def factorize(n):\n",
    "    factor = []\n",
    "    p = 2\n",
    "    m = 0\n",
    "    q = n\n",
    "    while(q>=p):\n",
    "        if math.gcd(p, q)==p:\n",
    "            m += 1\n",
    "            q //= p\n",
    "        else:\n",
    "            if m>0:\n",
    "                factor.append([p, m])\n",
    "            m = 0\n",
    "            p += 1\n",
    "    if m>0:\n",
    "        factor.append([p, m])\n",
    "    return factor\n",
    "factorize(2873150280)"
   ]
  },
  {
   "cell_type": "code",
   "execution_count": null,
   "metadata": {},
   "outputs": [],
   "source": [
    "# integer division\n",
    "print(12 // 3, 11 // 3, 11/3)"
   ]
  },
  {
   "cell_type": "code",
   "execution_count": null,
   "metadata": {},
   "outputs": [],
   "source": [
    "#Mandelbaum-Barrows Codes與AW distance d\n",
    "def MBCodes(n):\n",
    "    for i in range(2, n+1):\n",
    "        N = 2**i - 1\n",
    "        f = factorize(N)\n",
    "        B = f[-1][0]\n",
    "        r = 2\n",
    "        d = (i/(B-1))*(ceil(2*B/(2+1))-ceil(B/(2+1)))\n",
    "        print(i, N, f, d)\n",
    "MBCodes(30)"
   ]
  },
  {
   "cell_type": "code",
   "execution_count": null,
   "metadata": {},
   "outputs": [],
   "source": [
    "# bit-format\n",
    "def bF(n):\n",
    "    return '{0:b}'.format(n)\n",
    "print(bF(37))"
   ]
  },
  {
   "cell_type": "code",
   "execution_count": 5,
   "metadata": {},
   "outputs": [
    {
     "name": "stdout",
     "output_type": "stream",
     "text": [
      "GF(13) =  [0, 1, 2, 4, 8, 3, 6, 12, 11, 9, 5, 10, 7]\n"
     ]
    }
   ],
   "source": [
    "#如果q為質數，則{0, 1, 2, .., q-1}構成葛瑞場(Galois Field), GF(q)\n",
    "# 加法群：0是加法反身元素，q-i是i的反元素; 除了0之外，係由「+1」產生(Generator)\n",
    "# 乘法群：1是乘法反身元素，擬比照加法群來產生乘法群，可以當Generator的就稱之為primitive element(原生元素)\n",
    "# 最小的非1原生元素r排在前，依次產生{0 ,r^0, r^1, r^2, ..., r^(q-2)}\n",
    "# 費馬-尤拉定理: r^(q-1) = r^0 = 1 (mod q)\n",
    "# 假設 q-1可以分解成 2x3x..., 則指數為2, 3, ...的倍數的不是primitive elements, 剩下的就是primitive elements\n",
    "# 2為primitive element的q比較適合當作(q/2)位元AN Codes的A\n",
    "q = 13\n",
    "def primitiveElementsOfGF(q):\n",
    "    PE = []\n",
    "    if isPrime(q):\n",
    "        for r in range(2, q):\n",
    "            found = 1\n",
    "            for k in range(1, q-1):\n",
    "                if ((r ** k) % q == 1):\n",
    "                    found = 0\n",
    "                    break\n",
    "            if found:\n",
    "                break\n",
    "        PE = [0, 1, r]\n",
    "        for i in range(2, q-1):\n",
    "            PE.append((PE[-1]*r)%q)\n",
    "    return PE\n",
    "print('GF(%d) = ' % (q), primitiveElementsOfGF(q))"
   ]
  },
  {
   "cell_type": "code",
   "execution_count": null,
   "metadata": {},
   "outputs": [],
   "source": [
    "primitiveElementsOfGF(12)"
   ]
  },
  {
   "cell_type": "code",
   "execution_count": null,
   "metadata": {},
   "outputs": [],
   "source": [
    "p=13\n",
    "s = \"file\" + str(1933)\n",
    "s"
   ]
  },
  {
   "cell_type": "code",
   "execution_count": 7,
   "metadata": {},
   "outputs": [
    {
     "name": "stdout",
     "output_type": "stream",
     "text": [
      "Module file AN_Code_Decoder13.v is generated.\n",
      "\n"
     ]
    }
   ],
   "source": [
    "#### AN-Code Decoder\n",
    "# 2025/2/10\n",
    "# Using isPrime(p), primitiveElementsOfGF(p)\n",
    "import math\n",
    "def isPrime(n):\n",
    "    p=1\n",
    "    i=2\n",
    "    while (i * i <= n):\n",
    "        if math.gcd(i, n)!=1:\n",
    "            p=0\n",
    "        i += 1\n",
    "    return p\n",
    "\n",
    "def primitiveElementsOfGF(q):\n",
    "    PE = []\n",
    "    if isPrime(q):\n",
    "        for r in range(2, q):\n",
    "            found = 1\n",
    "            for k in range(1, q-1):\n",
    "                if ((r ** k) % q == 1):\n",
    "                    found = 0\n",
    "                    break\n",
    "            if found:\n",
    "                break\n",
    "        PE = [0, 1, r]\n",
    "        for i in range(2, q-1):\n",
    "            PE.append((PE[-1]*r)%q)\n",
    "    return PE\n",
    "\n",
    "#### AN-Code Decoder\n",
    "# 2025/2/10\n",
    "# Using isPrime(p), primitiveElementsOfGF(p)\n",
    "#-------------------------------------\n",
    "p = 13\n",
    "Bp = 4\n",
    "Bw = 6 \n",
    "Bn = Bw - Bp\n",
    "\n",
    "#-------------------------------------\n",
    "Remainders = primitiveElementsOfGF(p)\n",
    "#-------------------------------------\n",
    "fn = 'AN_Code_Decoder' + str(p) + '.v'\n",
    "f = open(fn, 'w')\n",
    "\n",
    "f.write('// Product (AN) Code Decoder\\n')\n",
    "f.write('// ' + fn + '\\n')\n",
    "f.write('// Received codeword W = AN + e, e is single arithmetic weight error (AWE), +2^i or -2^i.\\n')\n",
    "f.write('module ProductDecoder(W, N);\\n')\n",
    "f.write('input \\t[%d:0]\\tW;\\n' % (Bw-1))\n",
    "f.write('output\\t[%d:0]\\tN;\\n' % (Bn-1))\n",
    "f.write('parameter A = %d;\\n\\n' % (p))\n",
    "f.write('wire \\t[%d:0]\\tQ;\\n' % (Bn-1))\n",
    "f.write('wire \\t[%d:0]\\tR;\\n' % (Bp-1))\n",
    "f.write('assign Q = W / A;\\n')\n",
    "f.write('assign R = W - (A * Q);\\n\\n')\n",
    "\n",
    "f.write('reg \\t[%d:0]\\tDelta;\\n' % (Bw-1))\n",
    "f.write('always@(*) begin\\n')\n",
    "f.write('\\tcase(R)\\n')\n",
    "for i in range(Bw):\n",
    "    f.write('\\t\\t%d: Delta = %d;\\n' %(Remainders[i+1], 1<<i))\n",
    "for i in range(Bw, 2*Bw):\n",
    "    f.write('\\t\\t%d: Delta = -%d;\\n' %(Remainders[i+1], 1<<(i-Bw)))\n",
    "f.write('\\tendcase\\n')\n",
    "f.write('end\\n\\n')\n",
    "f.write('assign N = (W - Delta) / A;\\n\\n')\n",
    "\n",
    "f.write('endmodule\\n')\n",
    "f.close();\n",
    "print('Module file %s is generated.\\n' % (fn))"
   ]
  },
  {
   "cell_type": "code",
   "execution_count": null,
   "metadata": {},
   "outputs": [],
   "source": [
    "for q in range(3, 132):\n",
    "    if isPrime(q):\n",
    "        print('GF(%d) = ' % (q), primitiveElementsOfGF(q))"
   ]
  },
  {
   "cell_type": "code",
   "execution_count": null,
   "metadata": {},
   "outputs": [],
   "source": [
    "# 列出可以當AN Codes (AN有n位元)的最小A及其Weight; 最小Weight的A, 及其Weight\n",
    "from TCB import *\n",
    "#k = 3\n",
    "k = 10\n",
    "for n in range(1, 129):\n",
    "    Alight = 0\n",
    "    for A in range(2*n+1, k*n+1, 2):\n",
    "        r = []\n",
    "        for i in range(n):\n",
    "            e = 2**i\n",
    "            r.append(e%A)\n",
    "            r.append((-e)%A)\n",
    "        identity=1\n",
    "        for i in range(len(r)-1):\n",
    "            for j in range(i+1, len(r)):\n",
    "                if r[i]==r[j]:\n",
    "                    identity=0\n",
    "        if identity:\n",
    "            if Alight == 0:\n",
    "                Amin, Alight = A, A\n",
    "            elif Weight(A)<Weight(Alight):\n",
    "                Alight = A\n",
    "    #print(n, A, r)\n",
    "    print(n, Amin, Weight(Amin), Alight, Weight(Alight))"
   ]
  },
  {
   "cell_type": "code",
   "execution_count": null,
   "metadata": {},
   "outputs": [],
   "source": [
    "### 費馬-歐拉定理Fermat-Euler Theorem\n",
    "### 歐拉函數Euler Totient Function\n",
    "def phi(n):\n",
    "    k=0\n",
    "    for i in range(n):\n",
    "        if gcd(i, n)==1:\n",
    "            k+=1\n",
    "    return k\n",
    "phi(5)\n",
    "### Fermat-Euler Theorem\n",
    "for a in range(3, 100, 2):\n",
    "    print(\"%d:%d\" % (a, 2**phi(a) % a), end=' ')"
   ]
  },
  {
   "cell_type": "code",
   "execution_count": null,
   "metadata": {},
   "outputs": [],
   "source": [
    "phi(10)"
   ]
  },
  {
   "cell_type": "code",
   "execution_count": null,
   "metadata": {},
   "outputs": [],
   "source": [
    "### Minum length of Distinct Plus-1-Group and Minus-1-Group of q\n",
    "def Cosets(q):\n",
    "    Gp, Gm = [1], [-1 % q]\n",
    "    while True:\n",
    "        Np = (Gp[-1] * 2) % q\n",
    "        Nm = (Gm[-1] * 2) % q\n",
    "        if (Np in Gp) or (Np in Gm) or (Nm in Gp) or (Nm in Gm) or (Np == Nm):\n",
    "            break\n",
    "        else:\n",
    "            Gp.append(Np)\n",
    "            Gm.append(Nm)\n",
    "    return [Gp, Gm]"
   ]
  },
  {
   "cell_type": "code",
   "execution_count": null,
   "metadata": {},
   "outputs": [],
   "source": [
    "for q in range(3, 132):\n",
    "    n = len(Cosets(q)[0])\n",
    "    rate = int(200 * n / (q-1))\n",
    "    print(\"%d: %d  %d\" % (q, n, rate))"
   ]
  },
  {
   "cell_type": "code",
   "execution_count": null,
   "metadata": {},
   "outputs": [],
   "source": [
    "## Natural Numbers: 0\n",
    "## Composite numbers: 1\n",
    "## Prime numbers: 2\n",
    "## Perfect Cosets: 3\n",
    "## 2-primitive numbers: 4\n",
    "S=[0, 0, 2]\n",
    "N=256\n",
    "for q in range(3, N+1):\n",
    "    S.append(1)\n",
    "    if isPrime(q):\n",
    "        S[-1] += 1\n",
    "        if len(Cosets(q)[0]) * 2 == q - 1:\n",
    "            S[-1] += 1\n",
    "            if primitiveElementsOfGF(q)[2]==2:\n",
    "                S[-1] += 1\n",
    "print(\"%10s|%10s|%10s(%10s(%10s))\" % ('special', 'composite', 'prime  ', 'max-cosets', 'primitive'))\n",
    "for q in range(N+1):\n",
    "    if S[q]==0:\n",
    "        print(\"%6s%d%4s%11s\" % ('', q, '|', '|'))\n",
    "    elif S[q]==1:\n",
    "        print(\"%10s%s%6d%5s\" % ('', '|', q, '|'))\n",
    "    elif S[q]==2:\n",
    "        print(\"%11s%11s%6d\" % ('|', '|', q))\n",
    "    elif S[q]==3:\n",
    "        print(\"%11s%11s%17d\" % ('|', '|', q))\n",
    "    else:\n",
    "        print(\"%11s%11s%28d\" % ('|', '|', q))        "
   ]
  },
  {
   "cell_type": "code",
   "execution_count": null,
   "metadata": {},
   "outputs": [],
   "source": [
    "## Proving that P1P2N Codes are wrong since the residues are not unique to locate the double errors and single errors\n",
    "P1 = 23\n",
    "P2 = 47\n",
    "n = (P1-1)//2\n",
    "k = n - math.log2(P1*P2)\n",
    "R = []\n",
    "for i in range(n-1):\n",
    "    for si in range(2):\n",
    "        for j in range(i+1, n):\n",
    "            for sj in range(2):\n",
    "                r = ((-1)**si)*(2**i) + ((-1)**sj)*(2**j)\n",
    "                r1 = r % P1\n",
    "                r2 = r % P2\n",
    "                R.append(r2*100+r1)\n",
    "R.sort()\n",
    "\n",
    "repeat = 0\n",
    "for i in range(len(R)-1):\n",
    "    if R[i]==R[i+1]:\n",
    "        repeat += 1\n",
    "L = len(R)\n",
    "n, k, (L-repeat)/L, R"
   ]
  },
  {
   "cell_type": "code",
   "execution_count": null,
   "metadata": {},
   "outputs": [],
   "source": [
    "## Proving that P1P2N Codes are wrong since the residues are not unique to locate the double errors and single errors\n",
    "P1 = 53\n",
    "P2 = 59\n",
    "n = (P1-1)//2\n",
    "k = n - math.log2(P1*P2)\n",
    "R = []\n",
    "for Sign in [-1, 1]:\n",
    "    for e in range(1, 2**n):\n",
    "        if Weight(e) < 3:\n",
    "            err = Sign * e\n",
    "            r1 = err % P1\n",
    "            r2 = err % P2\n",
    "            R.append([r2*100+r1, err])\n",
    "R.sort()\n",
    "\n",
    "repeat = 0\n",
    "for i in range(len(R)-1):\n",
    "    if R[i][0]==R[i+1][0]:\n",
    "        repeat += 1\n",
    "        print('(%d, %s=%d, %s=%d)' % (R[i][0], Bin2TCB(R[i][1]), R[i][1], Bin2TCB(R[i+1][1]), R[i+1][1]), end=', ')\n",
    "L = len(R)\n",
    "n, k, (L-repeat)/L, R"
   ]
  },
  {
   "cell_type": "code",
   "execution_count": null,
   "metadata": {},
   "outputs": [],
   "source": [
    "Bin2TCB(8160)"
   ]
  },
  {
   "cell_type": "code",
   "execution_count": null,
   "metadata": {},
   "outputs": [],
   "source": []
  }
 ],
 "metadata": {
  "kernelspec": {
   "display_name": "base",
   "language": "python",
   "name": "python3"
  },
  "language_info": {
   "codemirror_mode": {
    "name": "ipython",
    "version": 3
   },
   "file_extension": ".py",
   "mimetype": "text/x-python",
   "name": "python",
   "nbconvert_exporter": "python",
   "pygments_lexer": "ipython3",
   "version": "3.11.7"
  }
 },
 "nbformat": 4,
 "nbformat_minor": 4
}
