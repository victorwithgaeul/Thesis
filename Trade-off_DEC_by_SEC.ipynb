{
 "cells": [
  {
   "cell_type": "markdown",
   "metadata": {},
   "source": [
    "## 折衷查表:\n",
    "### 用 Single Error Correction 解 Double Error Correction (A 取Double_AWE的 A)"
   ]
  },
  {
   "cell_type": "markdown",
   "metadata": {},
   "source": [
    "#### 1.取 A的bits $\\approx$ N的bits $\\Rightarrow$ A = 3349 (12bits), N的範圍: 0 ~ 4095 (12bits)"
   ]
  },
  {
   "cell_type": "markdown",
   "metadata": {},
   "source": [
    "### Define function\n",
    "* (Not including 2's complement range)"
   ]
  },
  {
   "cell_type": "code",
   "execution_count": 2,
   "metadata": {},
   "outputs": [
    {
     "name": "stdout",
     "output_type": "stream",
     "text": [
      "一個2補數所需要的位元數 7\n",
      "一bits數可表示的2補數的範圍 (0, 127)\n",
      "一個2補數表達為二進制為: 11000\n"
     ]
    }
   ],
   "source": [
    "import math\n",
    "import numpy as np\n",
    "\n",
    "\n",
    "def decimal_to_binary(decimal_number):\n",
    "    if decimal_number == 0:\n",
    "        return \"0\"\n",
    "    # 處理正數：直接轉換\n",
    "    if decimal_number > 0:\n",
    "        return bin(decimal_number)[2:]  # 移除 \"0b\" 前綴\n",
    "       # 處理負數：自動計算所需位元數（2's complement）\n",
    "    abs_value = abs(decimal_number)\n",
    "    bits = abs_value.bit_length() + 1  # 負數多一個符號位元\n",
    "    two_complement_value = (1 << bits) + decimal_number\n",
    "    \n",
    "    return bin(two_complement_value)[2:]  # 移除 \"0b\" 前綴\n",
    "\n",
    "def bits_needed(number):\n",
    "    if number < 0:\n",
    "        raise ValueError(\"2's complement is not available\")  # 如果輸入負數，拋出錯誤\n",
    "    if number == 0:\n",
    "        return 1  # 0 需要 1 個位元\n",
    "    \n",
    "    # 計算位元數\n",
    "    bits = math.floor(math.log2(number)) + 1\n",
    "    return bits\n",
    "\n",
    "\n",
    "def bits_range(bits, signed=False):     ## 可選擇設定 有號數 或 無號數\n",
    "    if bits <= 0:\n",
    "        return \"位元數必須為正整數！\"\n",
    "    \n",
    "    if signed:\n",
    "        # 二補數範圍: -2^(bits-1) 到 2^(bits-1)-1\n",
    "        min_value = -(2**(bits - 1))\n",
    "        max_value = 2**(bits - 1) - 1\n",
    "    else:\n",
    "        # 無符號範圍: 0 到 2^bits - 1\n",
    "        min_value = 0\n",
    "        max_value = 2**bits - 1\n",
    "\n",
    "    return min_value, max_value\n",
    "\n",
    "print(\"一個2補數所需要的位元數\",bits_needed(120))\n",
    "print(\"一bits數可表示的2補數的範圍\",bits_range(bits_needed(120)))\n",
    "print(\"一個2補數表達為二進制為:\",decimal_to_binary(-8))"
   ]
  },
  {
   "cell_type": "markdown",
   "metadata": {},
   "source": [
    "### 查找表範例"
   ]
  },
  {
   "cell_type": "code",
   "execution_count": 3,
   "metadata": {},
   "outputs": [
    {
     "name": "stdout",
     "output_type": "stream",
     "text": [
      "值到位址的映射: {10: 2, 20: 0, 30: 4}\n",
      "位址到值的映射: {0: 20, 1: 0, 2: 10, 3: 0, 4: 30}\n",
      "值到位址: {10: 2, 20: 0, 30: 3, 40: 1}\n",
      "位址到值: {0: 20, 1: 40, 2: 10, 3: 30}\n",
      "輸入值 10, 對應位址: 2\n",
      "輸入位址 2, 對應值: 10\n"
     ]
    }
   ],
   "source": [
    "def create_mapping(source_list, address_map):\n",
    "    \"\"\"\n",
    "    建立值到位址和位址到值的雙向映射。\n",
    "    若 address_map 中某位址沒有對應值，則該位址的值為 0。\n",
    "    \n",
    "    參數:\n",
    "    source_list (list): 原始資料列表。\n",
    "    address_map (list): 位址映射列表。\n",
    "    \n",
    "    回傳:\n",
    "    tuple: (值到位址的映射, 位址到值的映射)\n",
    "    \"\"\"\n",
    "    # 初始化值到位址的映射\n",
    "    value_to_address = {value: addr for value, addr in zip(source_list, address_map)}\n",
    "    \n",
    "    # 初始化位址到值的映射，未指定的位址預設為 0\n",
    "    max_address = max(address_map)  # 確保涵蓋所有位址\n",
    "    address_to_value = {addr: 0 for addr in range(max_address + 1)}  # 預設為 0\n",
    "    for value, addr in zip(source_list, address_map):\n",
    "        address_to_value[addr] = value  # 更新有指定值的位址\n",
    "\n",
    "    return value_to_address, address_to_value\n",
    "\n",
    "# 測試數據\n",
    "source_list = [10, 20, 30]\n",
    "address_map = [2, 0, 4]\n",
    "\n",
    "# 建立映射\n",
    "value_to_address, address_to_value = create_mapping(source_list, address_map)\n",
    "\n",
    "# 顯示結果\n",
    "print(\"值到位址的映射:\", value_to_address)\n",
    "print(\"位址到值的映射:\", address_to_value)\n",
    "\n",
    "\n",
    "# 測試數據\n",
    "source_list = [10, 20, 30, 40]\n",
    "address_map = [2, 0, 3, 1]\n",
    "\n",
    "# 建立映射\n",
    "value_to_address, address_to_value = create_mapping(source_list, address_map)\n",
    "\n",
    "# 測試查詢\n",
    "print(\"值到位址:\", value_to_address)  # 查詢 10 -> 2, 20 -> 0\n",
    "print(\"位址到值:\", address_to_value)  # 查詢 2 -> 10, 0 -> 20\n",
    "\n",
    "# 範例查詢\n",
    "value = 10\n",
    "address = 2\n",
    "print(f\"輸入值 {value}, 對應位址: {value_to_address[value]}\")\n",
    "print(f\"輸入位址 {address}, 對應值: {address_to_value[address]}\")"
   ]
  },
  {
   "cell_type": "markdown",
   "metadata": {},
   "source": [
    "## 以12bits為例:"
   ]
  },
  {
   "cell_type": "code",
   "execution_count": 4,
   "metadata": {},
   "outputs": [
    {
     "name": "stdout",
     "output_type": "stream",
     "text": [
      "AN資料的位元數: 24\n"
     ]
    }
   ],
   "source": [
    "### 輸入數值為data, ANcode的A為AN\n",
    "### 乘完A後的數值為 input\n",
    "data = 4095     ## 0~4095\n",
    "AN = 3349\n",
    "input = data*AN\n",
    "bits = bits_needed(input)\n",
    "print(\"AN資料的位元數:\", bits)"
   ]
  },
  {
   "cell_type": "markdown",
   "metadata": {},
   "source": [
    "### 產生1-bit AWE (Arithmetic-Weight Error)"
   ]
  },
  {
   "cell_type": "code",
   "execution_count": 5,
   "metadata": {},
   "outputs": [
    {
     "name": "stdout",
     "output_type": "stream",
     "text": [
      "24\n",
      "13714155\n",
      "產生1-bit AWE: [13714156, 13714154, 13714157, 13714153, 13714159, 13714151, 13714163, 13714147, 13714171, 13714139, 13714187, 13714123, 13714219, 13714091, 13714283, 13714027, 13714411, 13713899, 13714667, 13713643, 13715179, 13713131, 13716203, 13712107, 13718251, 13710059, 13722347, 13705963, 13730539, 13697771, 13746923, 13681387, 13779691, 13648619, 13845227, 13583083, 13976299, 13452011, 14238443, 13189867, 14762731, 12665579, 15811307, 11617003, 17908459, 9519851, 22102763, 5325547]\n",
      "算術錯誤的內容: [1, -1, 2, -2, 4, -4, 8, -8, 16, -16, 32, -32, 64, -64, 128, -128, 256, -256, 512, -512, 1024, -1024, 2048, -2048, 4096, -4096, 8192, -8192, 16384, -16384, 32768, -32768, 65536, -65536, 131072, -131072, 262144, -262144, 524288, -524288, 1048576, -1048576, 2097152, -2097152, 4194304, -4194304, 8388608, -8388608]\n",
      "48\n",
      "48\n"
     ]
    }
   ],
   "source": [
    "AWE_1=[]\n",
    "e1=0     ## 錯誤數量\n",
    "e1_data=[]\n",
    "for i in range(0, bits):\n",
    "    AWE_1.insert(e1 , input + 2**i)\n",
    "    e1_data.insert(e1, 2**i)\n",
    "    e1 = e1 + 1\n",
    "    AWE_1.insert(e1 , input - 2**i)\n",
    "    e1_data.insert(e1, -2**i)\n",
    "    e1 = e1 + 1\n",
    "\n",
    "print(bits)\n",
    "print(input)\n",
    "print(\"產生1-bit AWE:\",AWE_1)\n",
    "print(\"算術錯誤的內容:\", e1_data)\n",
    "print(e1)\n",
    "print(np.size(AWE_1))"
   ]
  },
  {
   "cell_type": "markdown",
   "metadata": {},
   "source": [
    "### 產生SEC的模數:"
   ]
  },
  {
   "cell_type": "code",
   "execution_count": 16,
   "metadata": {},
   "outputs": [
    {
     "name": "stdout",
     "output_type": "stream",
     "text": [
      "SEC的模數:\n",
      " [1, 3348, 2, 3347, 4, 3345, 8, 3341, 16, 3333, 32, 3317, 64, 3285, 128, 3221, 256, 3093, 512, 2837, 1024, 2325, 2048, 1301, 747, 2602, 1494, 1855, 2988, 361, 2627, 722, 1905, 1444, 461, 2888, 922, 2427, 1844, 1505, 339, 3010, 678, 2671, 1356, 1993, 2712, 637]\n",
      "SEC的大小: 48\n"
     ]
    }
   ],
   "source": [
    "\n",
    "def custom_mod(a, b):\n",
    "    if b == 0:\n",
    "        return \"錯誤：除數不能為零！\"\n",
    "    # 計算商和餘數，修正餘數計算邏輯\n",
    "    quotient = a // b\n",
    "    remainder = a - b * quotient\n",
    "    # 修正負餘數的情況\n",
    "    if remainder > 0 and a < 0:\n",
    "        remainder -= abs(b)\n",
    "        quotient += 1\n",
    "    return remainder\n",
    "\n",
    "SEC_R = []\n",
    "for m in range(0,e1):\n",
    "    mod = custom_mod(AWE_1[m], AN)\n",
    "    SEC_R.append(mod)\n",
    "\n",
    "print(\"SEC的模數:\\n\",SEC_R)\n",
    "print(\"SEC的大小:\",np.size(SEC_R))"
   ]
  },
  {
   "cell_type": "markdown",
   "metadata": {},
   "source": [
    "## 建立只能做SEC的LUT"
   ]
  },
  {
   "cell_type": "code",
   "execution_count": 7,
   "metadata": {},
   "outputs": [],
   "source": [
    "AWE_to_SEC_R, SEC_R_to_AWE = create_mapping(e1_data, SEC_R)"
   ]
  },
  {
   "cell_type": "markdown",
   "metadata": {},
   "source": [
    "### 產生2-bit AWE (先固定某位元)"
   ]
  },
  {
   "cell_type": "code",
   "execution_count": 24,
   "metadata": {},
   "outputs": [
    {
     "name": "stdout",
     "output_type": "stream",
     "text": [
      "對應的餘數: 2602\n",
      "第 0 筆錯誤資料: 13710060\n",
      "第 0 筆算術錯誤: -4095\n",
      "第 1 筆錯誤資料: 13710058\n",
      "第 1 筆算術錯誤: -4097\n",
      "第 2 筆錯誤資料: 13710061\n",
      "第 2 筆算術錯誤: -4094\n",
      "第 3 筆錯誤資料: 13710057\n",
      "第 3 筆算術錯誤: -4098\n",
      "第 4 筆錯誤資料: 13710063\n",
      "第 4 筆算術錯誤: -4092\n",
      "第 5 筆錯誤資料: 13710055\n",
      "第 5 筆算術錯誤: -4100\n",
      "第 6 筆錯誤資料: 13710067\n",
      "第 6 筆算術錯誤: -4088\n",
      "第 7 筆錯誤資料: 13710051\n",
      "第 7 筆算術錯誤: -4104\n",
      "第 8 筆錯誤資料: 13710075\n",
      "第 8 筆算術錯誤: -4080\n",
      "第 9 筆錯誤資料: 13710043\n",
      "第 9 筆算術錯誤: -4112\n",
      "第 10 筆錯誤資料: 13710091\n",
      "第 10 筆算術錯誤: -4064\n",
      "第 11 筆錯誤資料: 13710027\n",
      "第 11 筆算術錯誤: -4128\n",
      "第 12 筆錯誤資料: 13710123\n",
      "第 12 筆算術錯誤: -4032\n",
      "第 13 筆錯誤資料: 13709995\n",
      "第 13 筆算術錯誤: -4160\n",
      "第 14 筆錯誤資料: 13710187\n",
      "第 14 筆算術錯誤: -3968\n",
      "第 15 筆錯誤資料: 13709931\n",
      "第 15 筆算術錯誤: -4224\n",
      "第 16 筆錯誤資料: 13710315\n",
      "第 16 筆算術錯誤: -3840\n",
      "第 17 筆錯誤資料: 13709803\n",
      "第 17 筆算術錯誤: -4352\n",
      "第 18 筆錯誤資料: 13710571\n",
      "第 18 筆算術錯誤: -3584\n",
      "第 19 筆錯誤資料: 13709547\n",
      "第 19 筆算術錯誤: -4608\n",
      "第 20 筆錯誤資料: 13711083\n",
      "第 20 筆算術錯誤: -3072\n",
      "第 21 筆錯誤資料: 13709035\n",
      "第 21 筆算術錯誤: -5120\n",
      "第 22 筆錯誤資料: 13712107\n",
      "第 22 筆算術錯誤: -2048\n",
      "第 23 筆錯誤資料: 13708011\n",
      "第 23 筆算術錯誤: -6144\n",
      "第 24 筆錯誤資料: 13714155\n",
      "第 24 筆算術錯誤: 0\n",
      "第 25 筆錯誤資料: 13705963\n",
      "第 25 筆算術錯誤: -8192\n",
      "第 26 筆錯誤資料: 13718251\n",
      "第 26 筆算術錯誤: 4096\n",
      "第 27 筆錯誤資料: 13701867\n",
      "第 27 筆算術錯誤: -12288\n",
      "第 28 筆錯誤資料: 13726443\n",
      "第 28 筆算術錯誤: 12288\n",
      "第 29 筆錯誤資料: 13693675\n",
      "第 29 筆算術錯誤: -20480\n",
      "第 30 筆錯誤資料: 13742827\n",
      "第 30 筆算術錯誤: 28672\n",
      "第 31 筆錯誤資料: 13677291\n",
      "第 31 筆算術錯誤: -36864\n",
      "第 32 筆錯誤資料: 13775595\n",
      "第 32 筆算術錯誤: 61440\n",
      "第 33 筆錯誤資料: 13644523\n",
      "第 33 筆算術錯誤: -69632\n",
      "第 34 筆錯誤資料: 13841131\n",
      "第 34 筆算術錯誤: 126976\n",
      "第 35 筆錯誤資料: 13578987\n",
      "第 35 筆算術錯誤: -135168\n",
      "第 36 筆錯誤資料: 13972203\n",
      "第 36 筆算術錯誤: 258048\n",
      "第 37 筆錯誤資料: 13447915\n",
      "第 37 筆算術錯誤: -266240\n",
      "第 38 筆錯誤資料: 14234347\n",
      "第 38 筆算術錯誤: 520192\n",
      "第 39 筆錯誤資料: 13185771\n",
      "第 39 筆算術錯誤: -528384\n",
      "第 40 筆錯誤資料: 14758635\n",
      "第 40 筆算術錯誤: 1044480\n",
      "第 41 筆錯誤資料: 12661483\n",
      "第 41 筆算術錯誤: -1052672\n",
      "第 42 筆錯誤資料: 15807211\n",
      "第 42 筆算術錯誤: 2093056\n",
      "第 43 筆錯誤資料: 11612907\n",
      "第 43 筆算術錯誤: -2101248\n",
      "第 44 筆錯誤資料: 17904363\n",
      "第 44 筆算術錯誤: 4190208\n",
      "第 45 筆錯誤資料: 9515755\n",
      "第 45 筆算術錯誤: -4198400\n",
      "第 46 筆錯誤資料: 22098667\n",
      "第 46 筆算術錯誤: 8384512\n",
      "第 47 筆錯誤資料: 5321451\n",
      "第 47 筆算術錯誤: -8392704\n",
      "46\n",
      "23\n",
      "產生2-bits AWE: [-4095, -4097, -4094, -4098, -4092, -4100, -4088, -4104, -4080, -4112, -4064, -4128, -4032, -4160, -3968, -4224, -3840, -4352, -3584, -4608, -3072, -5120, -2048, -6144, 4096, -12288, 12288, -20480, 28672, -36864, 61440, -69632, 126976, -135168, 258048, -266240, 520192, -528384, 1044480, -1052672, 2093056, -2101248, 4190208, -4198400, 8384512, -8392704]\n",
      "產生2-bits e2_data: [13710060, 13710058, 13710061, 13710057, 13710063, 13710055, 13710067, 13710051, 13710075, 13710043, 13710091, 13710027, 13710123, 13709995, 13710187, 13709931, 13710315, 13709803, 13710571, 13709547, 13711083, 13709035, 13712107, 13708011, 13718251, 13701867, 13726443, 13693675, 13742827, 13677291, 13775595, 13644523, 13841131, 13578987, 13972203, 13447915, 14234347, 13185771, 14758635, 12661483, 15807211, 11612907, 17904363, 9515755, 22098667, 5321451]\n"
     ]
    }
   ],
   "source": [
    "AWE_2=[]\n",
    "e2=0     ## 錯誤數量\n",
    "p=0      ## 錯誤位置\n",
    "e2_data=[]\n",
    "N = 12\n",
    "SEC_value = -2**N     ## 先取某一固定位元,AWE為: (+) or (-) 2^N\n",
    "print(\"對應的餘數:\",AWE_to_SEC_R[SEC_value])\n",
    "for j in range(0, bits):\n",
    "    e2_data.insert(e2 , (input + SEC_value + 2**j))\n",
    "    AWE_2.insert(e2 , (SEC_value + 2**j))        \n",
    "    print(f\"第 {e2} 筆錯誤資料: {e2_data[e2]}\")\n",
    "    print(f\"第 {e2} 筆算術錯誤: {AWE_2[e2]}\")\n",
    "    e2 = e2 + 1\n",
    "    e2_data.insert(e2 , (input + SEC_value - 2**j))\n",
    "    AWE_2.insert(e2 , (SEC_value - 2**j))        \n",
    "    print(f\"第 {e2} 筆錯誤資料: {e2_data[e2]}\")\n",
    "    print(f\"第 {e2} 筆算術錯誤: {AWE_2[e2]}\")\n",
    "    e2 = e2 + 1\n",
    "    p = p + 1\n",
    "####################################################\n",
    "del AWE_2[(2*N)+1]\n",
    "del AWE_2[2*N]\n",
    "del e2_data[(2*N)+1]\n",
    "del e2_data[2*N]\n",
    "####################################################\n",
    "p = p -1\n",
    "e2 = e2 - 2\n",
    "print(e2)\n",
    "print(p)\n",
    "print(\"產生2-bits AWE:\",AWE_2)\n",
    "print(\"產生2-bits e2_data:\",e2_data)"
   ]
  },
  {
   "cell_type": "markdown",
   "metadata": {},
   "source": [
    "### 產生DEC模數: (先固定某一位元為例)"
   ]
  },
  {
   "cell_type": "code",
   "execution_count": 25,
   "metadata": {},
   "outputs": [
    {
     "name": "stdout",
     "output_type": "stream",
     "text": [
      "DEC_R的模數:\n",
      " [2603, 2601, 2604, 2600, 2606, 2598, 2610, 2594, 2618, 2586, 2634, 2570, 2666, 2538, 2730, 2474, 2858, 2346, 3114, 2090, 277, 1578, 1301, 554, 747, 1108, 2241, 2963, 1880, 3324, 1158, 697, 3063, 2141, 175, 1680, 1097, 758, 2941, 2263, 3280, 1924, 609, 1246, 1965, 3239]\n",
      "46\n"
     ]
    }
   ],
   "source": [
    "DEC_R = []\n",
    "for m in range(0,e2):\n",
    "    mod = custom_mod(e2_data[m], AN)\n",
    "    DEC_R.append(mod)\n",
    "\n",
    "print(\"DEC_R的模數:\\n\",DEC_R)\n",
    "print(np.size(DEC_R))\n"
   ]
  },
  {
   "cell_type": "markdown",
   "metadata": {},
   "source": [
    "### 尋找SEC和DEC關係:"
   ]
  },
  {
   "cell_type": "code",
   "execution_count": 26,
   "metadata": {},
   "outputs": [
    {
     "name": "stdout",
     "output_type": "stream",
     "text": [
      "[1, 3348, 2, 3347, 4, 3345, 8, 3341, 16, 3333, 32, 3317, 64, 3285, 128, 3221, 256, 3093, 512, 2837, 1024, 2325, 2048, 1301, 1494, 1855, 2988, 361, 2627, 722, 1905, 1444, 461, 2888, 922, 2427, 1844, 1505, 339, 3010, 678, 2671, 1356, 1993, 2712, 637]\n",
      "46\n"
     ]
    }
   ],
   "source": [
    "SEC_R2 = []\n",
    "position = 0\n",
    "AN = 3349\n",
    "for i in range(len(DEC_R)):\n",
    "    SEC_R2.insert(position, (DEC_R[i] - AWE_to_SEC_R[SEC_value]))  ##  R2 = R - R1\n",
    "    position = position+1\n",
    "    \n",
    "for i in range(len(SEC_R2)):\n",
    "    if SEC_R2[i] < 0:\n",
    "        SEC_R2[i] = AN + SEC_R2[i]    ## 若值小於0, AN+負值\n",
    "   \n",
    "print(SEC_R2) \n",
    "print(len(SEC_R2))\n"
   ]
  },
  {
   "cell_type": "code",
   "execution_count": 28,
   "metadata": {},
   "outputs": [
    {
     "name": "stdout",
     "output_type": "stream",
     "text": [
      "[1, -1, 2, -2, 4, -4, 8, -8, 16, -16, 32, -32, 64, -64, 128, -128, 256, -256, 512, -512, 1024, -1024, 2048, -2048, 8192, -8192, 16384, -16384, 32768, -32768, 65536, -65536, 131072, -131072, 262144, -262144, 524288, -524288, 1048576, -1048576, 2097152, -2097152, 4194304, -4194304, 8388608, -8388608]\n"
     ]
    }
   ],
   "source": [
    "SEC_AWE2 = [] \n",
    "position = 0\n",
    "for A in range(len(SEC_R2)):\n",
    "    SEC_AWE2.insert(position,(SEC_R_to_AWE[SEC_R2[A]]))\n",
    "    position = position + 1\n",
    "\n",
    "print(SEC_AWE2)"
   ]
  },
  {
   "cell_type": "markdown",
   "metadata": {},
   "source": [
    "### Trade-off algorithm:(以下為大致流程)"
   ]
  },
  {
   "cell_type": "markdown",
   "metadata": {},
   "source": [
    "![Trade-off演算法](./圖片/Trade-off%20algorithm.png )"
   ]
  },
  {
   "cell_type": "code",
   "execution_count": 29,
   "metadata": {},
   "outputs": [],
   "source": [
    "## 把重複的 AWE 去除\n",
    "def remove_duplicates(input_list):\n",
    "    unique_list = []\n",
    "    for number in input_list:\n",
    "        if number not in unique_list:\n",
    "            unique_list.append(number)\n",
    "    return unique_list"
   ]
  },
  {
   "cell_type": "code",
   "execution_count": 31,
   "metadata": {},
   "outputs": [
    {
     "name": "stdout",
     "output_type": "stream",
     "text": [
      "產生2-bits AWE:\n",
      " [-4095, -4097, -4094, -4098, -4092, -4100, -4088, -4104, -4080, -4112, -4064, -4128, -4032, -4160, -3968, -4224, -3840, -4352, -3584, -4608, -3072, -5120, -2048, -6144, 4096, -12288, 12288, -20480, 28672, -36864, 61440, -69632, 126976, -135168, 258048, -266240, 520192, -528384, 1044480, -1052672, 2093056, -2101248, 4190208, -4198400, 8384512, -8392704]\n",
      "Double AWE的餘數:\n",
      " [2603, 2601, 2604, 2600, 2606, 2598, 2610, 2594, 2618, 2586, 2634, 2570, 2666, 2538, 2730, 2474, 2858, 2346, 3114, 2090, 277, 1578, 1301, 554, 747, 1108, 2241, 2963, 1880, 3324, 1158, 697, 3063, 2141, 175, 1680, 1097, 758, 2941, 2263, 3280, 1924, 609, 1246, 1965, 3239]\n",
      "用折衷法 (Trade-off) 解出來的 Double AWE:\n",
      " [-4095, -4097, -4094, -4098, -4092, -4100, -4088, -4104, -4080, -4112, -4064, -4128, -4032, -4160, -3968, -4224, -3840, -4352, -3584, -4608, -3072, -5120, -2048, -6144, 4096, -12288, 12288, -20480, 28672, -36864, 61440, -69632, 126976, -135168, 258048, -266240, 520192, -528384, 1044480, -1052672, 2093056, -2101248, 4190208, -4198400, 8384512, -8392704]\n",
      "是否和產生2-bits AWE相同: True\n"
     ]
    }
   ],
   "source": [
    "###給定一個DEC_R, 找SEC_R1及SEC_R2\n",
    "import math\n",
    "\n",
    "print(\"產生2-bits AWE:\\n\",AWE_2)\n",
    "print(\"Double AWE的餘數:\\n\",DEC_R)\n",
    "AWE1 = 0 ; AWE2 = 0; R1 = 0; R2 = 0\n",
    "possible_AWE = []; possible_AWE1 = []; possible_AWE2 = []\n",
    "for R in DEC_R:\n",
    "    for errors in range(0,bits):\n",
    "        for o in range(2):                         ### 0:+, 1:-\n",
    "            if o == 0:\n",
    "                AWE1 = +2**errors\n",
    "            else:\n",
    "                AWE1 = -2**errors\n",
    "            R1 = AWE_to_SEC_R[AWE1]\n",
    "            R2 = R - R1\n",
    "            if R2 < 0: \n",
    "                R2 = AN + R2\n",
    "            AWE2 = SEC_R_to_AWE[R2]               ### 若找不到對應的AWE2,\n",
    "            if AWE2 != 0:                         ### AWE2定為0(函數內容已定義)  \n",
    "                possible_AWE.append(AWE1+AWE2)\n",
    "                #possible_AWE1.append(AWE1)\n",
    "                #possible_AWE2.append(AWE1)\n",
    "            \n",
    "possible_AWE = remove_duplicates(possible_AWE)    ### 把重複的AWE去除     \n",
    "print(\"用折衷法 (Trade-off) 解出來的 Double AWE:\\n\",possible_AWE)\n",
    "print(\"是否和產生2-bits AWE相同:\",possible_AWE == AWE_2)"
   ]
  },
  {
   "cell_type": "code",
   "execution_count": null,
   "metadata": {},
   "outputs": [],
   "source": []
  }
 ],
 "metadata": {
  "kernelspec": {
   "display_name": "base",
   "language": "python",
   "name": "python3"
  },
  "language_info": {
   "codemirror_mode": {
    "name": "ipython",
    "version": 3
   },
   "file_extension": ".py",
   "mimetype": "text/x-python",
   "name": "python",
   "nbconvert_exporter": "python",
   "pygments_lexer": "ipython3",
   "version": "3.11.7"
  }
 },
 "nbformat": 4,
 "nbformat_minor": 2
}
