{
 "cells": [
  {
   "cell_type": "markdown",
   "id": "9d9f4e7b",
   "metadata": {},
   "source": [
    "### Single AWE ANcode Decoder A=67 Synthesizer"
   ]
  },
  {
   "cell_type": "code",
   "execution_count": 11,
   "id": "53256318",
   "metadata": {},
   "outputs": [],
   "source": [
    "import math\n",
    "import numpy as np\n",
    "\n",
    "def bits_needed(number):\n",
    "    return number.bit_length()"
   ]
  },
  {
   "cell_type": "code",
   "execution_count": 12,
   "id": "5caaba0e",
   "metadata": {},
   "outputs": [
    {
     "name": "stdout",
     "output_type": "stream",
     "text": [
      "33\n",
      "33\n"
     ]
    }
   ],
   "source": [
    "GF67_positive =  [1, 2, 4, 8, 16, 32, 64, 61, 55, 43, 19, 38, 9, 18, 36, 5, 10, 20, 40, 13, 26, 52, 37, 7, 14, 28, 56, 45, 23, 46, 25, 50, 33]\n",
    "GF67_negative =  [66, 65, 63, 59, 51, 35, 3, 6, 12, 24, 48, 29, 58, 49, 31, 62, 57, 47, 27, 54, 41, 15, 30, 60, 53, 39, 11, 22, 44, 21, 42, 17, 34]\n",
    "print(np.size(GF67_positive))\n",
    "print(np.size(GF67_negative))"
   ]
  },
  {
   "cell_type": "code",
   "execution_count": 16,
   "id": "81943095",
   "metadata": {},
   "outputs": [
    {
     "name": "stdout",
     "output_type": "stream",
     "text": [
      "[1, 2, 3, 4, 5, 6, 7, 8, 9, 10, 11, 12, 13, 14, 15, 16, 17, 18, 19, 20, 21, 22, 23, 24, 25, 26, 27, 28, 29, 30, 31, 32, 33]\n",
      "[-1, -2, -3, -4, -5, -6, -7, -8, -9, -10, -11, -12, -13, -14, -15, -16, -17, -18, -19, -20, -21, -22, -23, -24, -25, -26, -27, -28, -29, -30, -31, -32, -33]\n"
     ]
    }
   ],
   "source": [
    "plus_values67 = list(range(1, len(GF67_positive) + 1))\n",
    "minus_values67 = [-i for i in range(1, len(GF67_negative) + 1)]\n",
    "print(plus_values67)\n",
    "print(minus_values67)"
   ]
  },
  {
   "cell_type": "markdown",
   "id": "5091a5fa",
   "metadata": {},
   "source": [
    "### 選取特定的位元數:"
   ]
  },
  {
   "cell_type": "code",
   "execution_count": 18,
   "id": "863d3e86",
   "metadata": {},
   "outputs": [
    {
     "name": "stdout",
     "output_type": "stream",
     "text": [
      "1124073405\n",
      "AN資料的位元數: 31\n",
      "7\n",
      "24\n",
      "5\n"
     ]
    }
   ],
   "source": [
    "### 輸入數值為data, ANcode的A為AN\n",
    "### 乘完A後的數值為 input\n",
    "data = (1 << 24) - 1        ### 24bits\n",
    "A = 67\n",
    "input = data * A\n",
    "bits = bits_needed(input)\n",
    "\n",
    "print(input)\n",
    "print(\"AN資料的位元數:\", bits)\n",
    "print(bits_needed(A))\n",
    "print(bits_needed(data))\n",
    "print(bits_needed(bits))\n"
   ]
  },
  {
   "cell_type": "code",
   "execution_count": 23,
   "id": "f8522ff7",
   "metadata": {},
   "outputs": [
    {
     "name": "stdout",
     "output_type": "stream",
     "text": [
      "Module file SECdecoder_AWE_24bits.v is generated.\n",
      "\n"
     ]
    }
   ],
   "source": [
    "#### SEC_AN Decoder\n",
    "# 2025/5/12\n",
    "#-------------------------------------\n",
    "# Used to do Conventional SEC, corrected errors by AWE\n",
    "# input: remainder, output: AWE\n",
    "Bw = bits\n",
    "Bn = bits_needed(data)\n",
    "BA = bits_needed(A)\n",
    "B_location = bits_needed(bits)\n",
    "#-------------------------------------\n",
    "fn = 'SECdecoder' +\"_AWE_\"+ str(Bn) + \"bits\" +'.v'\n",
    "f = open(fn, 'w')\n",
    "\n",
    "f.write('// Product (AN) Code Conventional SECdecoder\\n')\n",
    "f.write('// ' + fn + '\\n')\n",
    "f.write('// Used to do SEC by Galois Field, and corrected AWE\\n')\n",
    "f.write('// Received remainder r, output single AWE.\\n')\n",
    "f.write('module SECdecoder_AWE_%dbits(r, AWE);\\n'% (Bn))\n",
    "f.write('input \\t[%d:0]\\tr;\\n' % (BA-1))\n",
    "f.write('output\\treg\\tsigned\\t[%d:0]\\tAWE;\\n' % (np.size(GF67_positive)))\n",
    "\n",
    "f.write('always@(*) begin\\n')\n",
    "f.write('\\tcase(r)\\n')\n",
    "for i in range(np.size(GF67_positive)):\n",
    "    f.write(\"\\t\\t%d: AWE = +(1 << %d);\\n\" % (GF67_positive[i] ,plus_values67[i]-1))\n",
    "for j in range(np.size(GF67_negative)):\n",
    "    f.write(\"\\t\\t%d: AWE = -(1 << %d);\\n\" % (GF67_negative[j] ,plus_values67[j]-1))\n",
    "f.write(\"\\t\\tdefault: AWE = 0;\\n\")\n",
    "f.write('\\tendcase\\n')\n",
    "f.write('end\\n\\n')\n",
    "\n",
    "f.write('endmodule\\n')\n",
    "f.close();\n",
    "print('Module file %s is generated.\\n' % (fn))"
   ]
  },
  {
   "cell_type": "code",
   "execution_count": 24,
   "id": "7cfd9ad6",
   "metadata": {},
   "outputs": [
    {
     "name": "stdout",
     "output_type": "stream",
     "text": [
      "Module file SECdecoder_location_24bits.v is generated.\n",
      "\n"
     ]
    }
   ],
   "source": [
    "#### SEC_AN Decoder\n",
    "# 2025/5/12\n",
    "#-------------------------------------\n",
    "# Used to do Conventional SEC, corrected errors by location, not AWE\n",
    "# input: remainder, output: location\n",
    "Bw = bits\n",
    "Bn = bits_needed(data)\n",
    "BA = bits_needed(A)\n",
    "B_location = bits_needed(bits)\n",
    "#-------------------------------------\n",
    "fn = 'SECdecoder' +\"_location_\"+ str(Bn) + \"bits\" +'.v'\n",
    "f = open(fn, 'w')\n",
    "\n",
    "f.write('// Product (AN) Code Conventional SECdecoder\\n')\n",
    "f.write('// ' + fn + '\\n')\n",
    "f.write('// Used to do SEC by Galois Field, and corrected by location, not AWE\\n')\n",
    "f.write('// Received remainder r, output error location.\\n')\n",
    "f.write('module SECdecoder_location_%dbits(r, l);\\n'% (Bn))\n",
    "f.write('input \\t[%d:0]\\tr;\\n' % (BA-1))\n",
    "f.write('output\\treg\\tsigned\\t[%d:0]\\tl;\\n' % (B_location))\n",
    "\n",
    "f.write('always@(*) begin\\n')\n",
    "f.write('\\tcase(r)\\n')\n",
    "for i in range(np.size(GF67_positive)):\n",
    "    f.write(\"\\t\\t%d: l = %+d;\\n\" % (GF67_positive[i] ,plus_values67[i]))\n",
    "for j in range(np.size(GF67_negative)):\n",
    "    f.write(\"\\t\\t%d: l = %+d;\\n\" % (GF67_negative[j] ,minus_values67[j]))\n",
    "f.write(\"\\t\\tdefault: l = 0;\\n\")\n",
    "f.write('\\tendcase\\n')\n",
    "f.write('end\\n\\n')\n",
    "\n",
    "f.write('endmodule\\n')\n",
    "f.close();\n",
    "print('Module file %s is generated.\\n' % (fn))"
   ]
  },
  {
   "cell_type": "code",
   "execution_count": null,
   "id": "110e29e6",
   "metadata": {},
   "outputs": [],
   "source": []
  }
 ],
 "metadata": {
  "kernelspec": {
   "display_name": "env1",
   "language": "python",
   "name": "python3"
  },
  "language_info": {
   "codemirror_mode": {
    "name": "ipython",
    "version": 3
   },
   "file_extension": ".py",
   "mimetype": "text/x-python",
   "name": "python",
   "nbconvert_exporter": "python",
   "pygments_lexer": "ipython3",
   "version": "3.12.4"
  }
 },
 "nbformat": 4,
 "nbformat_minor": 5
}
