{
 "cells": [
  {
   "cell_type": "markdown",
   "id": "9f9f7bb3",
   "metadata": {},
   "source": [
    "### Single AWE ANcode Decoder A=83 Synthesizer"
   ]
  },
  {
   "cell_type": "code",
   "execution_count": 1,
   "id": "34f2dab3",
   "metadata": {},
   "outputs": [],
   "source": [
    "import math\n",
    "import numpy as np\n",
    "\n",
    "def bits_needed(number):\n",
    "    return number.bit_length()"
   ]
  },
  {
   "cell_type": "code",
   "execution_count": 2,
   "id": "d8552a39",
   "metadata": {},
   "outputs": [
    {
     "name": "stdout",
     "output_type": "stream",
     "text": [
      "41\n",
      "41\n"
     ]
    }
   ],
   "source": [
    "GF83_positive = [1, 2, 4, 8, 16, 32, 64, 45, 7, 14, 28, 56, 29, 58, 33, 66, 49, 15, 30, 60, 37, 74, 65, 47, 11, 22, 44, 5, 10, 20, 40, 80, 77, 71, 59, 35, 70, 57, 31, 62, 41] \n",
    "GF83_negative = [82, 81, 79, 75, 67, 51, 19, 38, 76, 69, 55, 27, 54, 25, 50, 17, 34, 68, 53, 23, 46, 9, 18, 36, 72, 61, 39, 78, 73, 63, 43, 3, 6, 12, 24, 48, 13, 26, 52, 21, 42]\n",
    "print(np.size(GF83_positive))\n",
    "print(np.size(GF83_negative))"
   ]
  },
  {
   "cell_type": "code",
   "execution_count": 3,
   "id": "74a931f3",
   "metadata": {},
   "outputs": [
    {
     "name": "stdout",
     "output_type": "stream",
     "text": [
      "[1, 2, 3, 4, 5, 6, 7, 8, 9, 10, 11, 12, 13, 14, 15, 16, 17, 18, 19, 20, 21, 22, 23, 24, 25, 26, 27, 28, 29, 30, 31, 32, 33, 34, 35, 36, 37, 38, 39, 40, 41]\n",
      "[-1, -2, -3, -4, -5, -6, -7, -8, -9, -10, -11, -12, -13, -14, -15, -16, -17, -18, -19, -20, -21, -22, -23, -24, -25, -26, -27, -28, -29, -30, -31, -32, -33, -34, -35, -36, -37, -38, -39, -40, -41]\n"
     ]
    }
   ],
   "source": [
    "plus_values83 = list(range(1, len(GF83_positive) + 1))\n",
    "minus_values83 = [-i for i in range(1, len(GF83_negative) + 1)]\n",
    "print(plus_values83)\n",
    "print(minus_values83)"
   ]
  },
  {
   "cell_type": "markdown",
   "id": "2bccc708",
   "metadata": {},
   "source": [
    "### 選取特定的位元數:"
   ]
  },
  {
   "cell_type": "code",
   "execution_count": 5,
   "id": "c24df10e",
   "metadata": {},
   "outputs": [
    {
     "name": "stdout",
     "output_type": "stream",
     "text": [
      "22280142765\n",
      "AN資料的位元數: 35\n",
      "7\n",
      "28\n",
      "6\n"
     ]
    }
   ],
   "source": [
    "### 輸入數值為data, ANcode的A為AN\n",
    "### 乘完A後的數值為 input\n",
    "data = (1 << 28) - 1        ### 28bits\n",
    "A = 83\n",
    "input = data * A\n",
    "bits = bits_needed(input)\n",
    "\n",
    "print(input)\n",
    "print(\"AN資料的位元數:\", bits)\n",
    "print(bits_needed(A))\n",
    "print(bits_needed(data))\n",
    "print(bits_needed(bits))\n"
   ]
  },
  {
   "cell_type": "code",
   "execution_count": 6,
   "id": "f757fd33",
   "metadata": {},
   "outputs": [
    {
     "name": "stdout",
     "output_type": "stream",
     "text": [
      "Module file SECdecoder_AWE_28bits.v is generated.\n",
      "\n"
     ]
    }
   ],
   "source": [
    "#### SEC_AN Decoder\n",
    "# 2025/5/12\n",
    "#-------------------------------------\n",
    "# Used to do Conventional SEC, corrected errors by AWE\n",
    "# input: remainder, output: AWE\n",
    "Bw = bits\n",
    "Bn = bits_needed(data)\n",
    "BA = bits_needed(A)\n",
    "B_location = bits_needed(bits)\n",
    "#-------------------------------------\n",
    "fn = 'SECdecoder' +\"_AWE_\"+ str(Bn) + \"bits\" +'.v'\n",
    "f = open(fn, 'w')\n",
    "\n",
    "f.write('// Product (AN) Code Conventional SECdecoder\\n')\n",
    "f.write('// ' + fn + '\\n')\n",
    "f.write('// Used to do SEC by Galois Field, and corrected AWE\\n')\n",
    "f.write('// Received remainder r, output single AWE.\\n')\n",
    "f.write('module SECdecoder_AWE_%dbits(r, AWE);\\n'% (Bn))\n",
    "f.write('input \\t[%d:0]\\tr;\\n' % (BA-1))\n",
    "f.write('output\\treg\\tsigned\\t[%d:0]\\tAWE;\\n' % (np.size(GF83_positive)))\n",
    "\n",
    "f.write('always@(*) begin\\n')\n",
    "f.write('\\tcase(r)\\n')\n",
    "for i in range(np.size(GF83_positive)):\n",
    "    f.write(\"\\t\\t%d: AWE = +(1 << %d);\\n\" % (GF83_positive[i] ,plus_values83[i]-1))\n",
    "for j in range(np.size(GF83_negative)):\n",
    "    f.write(\"\\t\\t%d: AWE = -(1 << %d);\\n\" % (GF83_negative[j] ,plus_values83[j]-1))\n",
    "f.write(\"\\t\\tdefault: AWE = 0;\\n\")\n",
    "f.write('\\tendcase\\n')\n",
    "f.write('end\\n\\n')\n",
    "\n",
    "f.write('endmodule\\n')\n",
    "f.close();\n",
    "print('Module file %s is generated.\\n' % (fn))"
   ]
  },
  {
   "cell_type": "code",
   "execution_count": 7,
   "id": "f2f39572",
   "metadata": {},
   "outputs": [
    {
     "name": "stdout",
     "output_type": "stream",
     "text": [
      "Module file SECdecoder_location_28bits.v is generated.\n",
      "\n"
     ]
    }
   ],
   "source": [
    "#### SEC_AN Decoder\n",
    "# 2025/5/12\n",
    "#-------------------------------------\n",
    "# Used to do Conventional SEC, corrected errors by location, not AWE\n",
    "# input: remainder, output: location\n",
    "Bw = bits\n",
    "Bn = bits_needed(data)\n",
    "BA = bits_needed(A)\n",
    "B_location = bits_needed(bits)\n",
    "#-------------------------------------\n",
    "fn = 'SECdecoder' +\"_location_\"+ str(Bn) + \"bits\" +'.v'\n",
    "f = open(fn, 'w')\n",
    "\n",
    "f.write('// Product (AN) Code Conventional SECdecoder\\n')\n",
    "f.write('// ' + fn + '\\n')\n",
    "f.write('// Used to do SEC by Galois Field, and corrected by location, not AWE\\n')\n",
    "f.write('// Received remainder r, output error location.\\n')\n",
    "f.write('module SECdecoder_location_%dbits(r, l);\\n'% (Bn))\n",
    "f.write('input \\t[%d:0]\\tr;\\n' % (BA-1))\n",
    "f.write('output\\treg\\tsigned\\t[%d:0]\\tl;\\n' % (B_location))\n",
    "\n",
    "f.write('always@(*) begin\\n')\n",
    "f.write('\\tcase(r)\\n')\n",
    "for i in range(np.size(GF83_positive)):\n",
    "    f.write(\"\\t\\t%d: l = %+d;\\n\" % (GF83_positive[i] ,plus_values83[i]))\n",
    "for j in range(np.size(GF83_negative)):\n",
    "    f.write(\"\\t\\t%d: l = %+d;\\n\" % (GF83_negative[j] ,minus_values83[j]))\n",
    "f.write(\"\\t\\tdefault: l = 0;\\n\")\n",
    "f.write('\\tendcase\\n')\n",
    "f.write('end\\n\\n')\n",
    "\n",
    "f.write('endmodule\\n')\n",
    "f.close();\n",
    "print('Module file %s is generated.\\n' % (fn))"
   ]
  },
  {
   "cell_type": "code",
   "execution_count": null,
   "id": "819aad42",
   "metadata": {},
   "outputs": [],
   "source": []
  }
 ],
 "metadata": {
  "kernelspec": {
   "display_name": "env1",
   "language": "python",
   "name": "python3"
  },
  "language_info": {
   "codemirror_mode": {
    "name": "ipython",
    "version": 3
   },
   "file_extension": ".py",
   "mimetype": "text/x-python",
   "name": "python",
   "nbconvert_exporter": "python",
   "pygments_lexer": "ipython3",
   "version": "3.12.4"
  }
 },
 "nbformat": 4,
 "nbformat_minor": 5
}
