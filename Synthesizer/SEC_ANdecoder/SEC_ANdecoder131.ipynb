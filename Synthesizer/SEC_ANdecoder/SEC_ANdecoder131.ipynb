{
 "cells": [
  {
   "cell_type": "markdown",
   "id": "91cacb37",
   "metadata": {},
   "source": [
    "### Single AWE ANcode Decoder A=131 Synthesizer"
   ]
  },
  {
   "cell_type": "code",
   "execution_count": 1,
   "id": "e23178b2",
   "metadata": {},
   "outputs": [],
   "source": [
    "import math\n",
    "import numpy as np\n",
    "\n",
    "def bits_needed(number):\n",
    "    return number.bit_length()"
   ]
  },
  {
   "cell_type": "code",
   "execution_count": 2,
   "id": "8e655000",
   "metadata": {},
   "outputs": [
    {
     "name": "stdout",
     "output_type": "stream",
     "text": [
      "65\n",
      "65\n"
     ]
    }
   ],
   "source": [
    "GF131_positive = [1, 2, 4, 8, 16, 32, 64, 128, 125, 119, 107, 83, 35, 70, 9, 18, 36, 72, 13, 26, 52, 104, 77, 23, 46, 92, 53, 106, 81, 31, 62, 124, 117, 103, 75, 19, 38, 76, 21, 42, 84, 37, 74, 17, 34, 68, 5, 10, 20, 40, 80, 29, 58, 116, 101, 71, 11, 22, 44, 88, 45, 90, 49, 98, 65]\n",
    "GF131_negative = [130, 129, 127, 123, 115, 99, 67, 3, 6, 12, 24, 48, 96, 61, 122, 113, 95, 59, 118, 105, 79, 27, 54, 108, 85, 39, 78, 25, 50, 100, 69, 7, 14, 28, 56, 112, 93, 55, 110, 89, 47, 94, 57, 114, 97, 63, 126, 121, 111, 91, 51, 102, 73, 15, 30, 60, 120, 109, 87, 43, 86, 41, 82, 33, 66]\n",
    "print(np.size(GF131_positive))\n",
    "print(np.size(GF131_negative))"
   ]
  },
  {
   "cell_type": "code",
   "execution_count": 3,
   "id": "7ac25c6e",
   "metadata": {},
   "outputs": [
    {
     "name": "stdout",
     "output_type": "stream",
     "text": [
      "[1, 2, 3, 4, 5, 6, 7, 8, 9, 10, 11, 12, 13, 14, 15, 16, 17, 18, 19, 20, 21, 22, 23, 24, 25, 26, 27, 28, 29, 30, 31, 32, 33, 34, 35, 36, 37, 38, 39, 40, 41, 42, 43, 44, 45, 46, 47, 48, 49, 50, 51, 52, 53, 54, 55, 56, 57, 58, 59, 60, 61, 62, 63, 64, 65]\n",
      "[-1, -2, -3, -4, -5, -6, -7, -8, -9, -10, -11, -12, -13, -14, -15, -16, -17, -18, -19, -20, -21, -22, -23, -24, -25, -26, -27, -28, -29, -30, -31, -32, -33, -34, -35, -36, -37, -38, -39, -40, -41, -42, -43, -44, -45, -46, -47, -48, -49, -50, -51, -52, -53, -54, -55, -56, -57, -58, -59, -60, -61, -62, -63, -64, -65]\n"
     ]
    }
   ],
   "source": [
    "plus_values131 = list(range(1, len(GF131_positive) + 1))\n",
    "minus_values131 = [-i for i in range(1, len(GF131_negative) + 1)]\n",
    "print(plus_values131)\n",
    "print(minus_values131)"
   ]
  },
  {
   "cell_type": "markdown",
   "id": "ce3f515b",
   "metadata": {},
   "source": [
    "### 選取特定的位元數:"
   ]
  },
  {
   "cell_type": "code",
   "execution_count": 5,
   "id": "107ffd3c",
   "metadata": {},
   "outputs": [
    {
     "name": "stdout",
     "output_type": "stream",
     "text": [
      "589971551185534845\n",
      "AN資料的位元數: 60\n",
      "8\n",
      "52\n",
      "6\n"
     ]
    }
   ],
   "source": [
    "### 輸入數值為data, ANcode的A為AN\n",
    "### 乘完A後的數值為 input\n",
    "data = (1 << 52) - 1        ### 52bits\n",
    "A = 131\n",
    "input = data * A\n",
    "bits = bits_needed(input)\n",
    "\n",
    "print(input)\n",
    "print(\"AN資料的位元數:\", bits)\n",
    "print(bits_needed(A))\n",
    "print(bits_needed(data))\n",
    "print(bits_needed(bits))\n"
   ]
  },
  {
   "cell_type": "code",
   "execution_count": 6,
   "id": "44a300f2",
   "metadata": {},
   "outputs": [
    {
     "name": "stdout",
     "output_type": "stream",
     "text": [
      "Module file SECdecoder_AWE_52bits.v is generated.\n",
      "\n"
     ]
    }
   ],
   "source": [
    "#### SEC_AN Decoder\n",
    "# 2025/5/13\n",
    "#-------------------------------------\n",
    "# Used to do Conventional SEC, corrected errors by AWE\n",
    "# input: remainder, output: AWE\n",
    "Bw = bits\n",
    "Bn = bits_needed(data)\n",
    "BA = bits_needed(A)\n",
    "B_location = bits_needed(bits)\n",
    "#-------------------------------------\n",
    "fn = 'SECdecoder' +\"_AWE_\"+ str(Bn) + \"bits\" +'.v'\n",
    "f = open(fn, 'w')\n",
    "\n",
    "f.write('// Product (AN) Code Conventional SECdecoder\\n')\n",
    "f.write('// ' + fn + '\\n')\n",
    "f.write('// Used to do SEC by Galois Field, and corrected AWE\\n')\n",
    "f.write('// Received remainder r, output single AWE.\\n')\n",
    "f.write('module SECdecoder_AWE_%dbits(r, AWE);\\n'% (Bn))\n",
    "f.write('input \\t[%d:0]\\tr;\\n' % (BA-1))\n",
    "f.write('output\\treg\\tsigned\\t[%d:0]\\tAWE;\\n' % (np.size(GF131_positive)))\n",
    "\n",
    "f.write('always@(*) begin\\n')\n",
    "f.write('\\tcase(r)\\n')\n",
    "for i in range(np.size(GF131_positive)):\n",
    "    f.write(\"\\t\\t%d: AWE = +(1 << %d);\\n\" % (GF131_positive[i] ,plus_values131[i]-1))\n",
    "for j in range(np.size(GF131_negative)):\n",
    "    f.write(\"\\t\\t%d: AWE = -(1 << %d);\\n\" % (GF131_negative[j] ,plus_values131[j]-1))\n",
    "f.write(\"\\t\\tdefault: AWE = 0;\\n\")\n",
    "f.write('\\tendcase\\n')\n",
    "f.write('end\\n\\n')\n",
    "\n",
    "f.write('endmodule\\n')\n",
    "f.close();\n",
    "print('Module file %s is generated.\\n' % (fn))"
   ]
  },
  {
   "cell_type": "code",
   "execution_count": 8,
   "id": "ab9ec51e",
   "metadata": {},
   "outputs": [
    {
     "name": "stdout",
     "output_type": "stream",
     "text": [
      "Module file SECdecoder_location_52bits.v is generated.\n",
      "\n"
     ]
    }
   ],
   "source": [
    "#### SEC_AN Decoder\n",
    "# 2025/5/13\n",
    "#-------------------------------------\n",
    "# Used to do Conventional SEC, corrected errors by location, not AWE\n",
    "# input: remainder, output: location\n",
    "Bw = bits\n",
    "Bn = bits_needed(data)\n",
    "BA = bits_needed(A)\n",
    "B_location = bits_needed(bits)\n",
    "#-------------------------------------\n",
    "fn = 'SECdecoder' +\"_location_\"+ str(Bn) + \"bits\" +'.v'\n",
    "f = open(fn, 'w')\n",
    "\n",
    "f.write('// Product (AN) Code Conventional SECdecoder\\n')\n",
    "f.write('// ' + fn + '\\n')\n",
    "f.write('// Used to do SEC by Galois Field, and corrected by location, not AWE\\n')\n",
    "f.write('// Received remainder r, output error location.\\n')\n",
    "f.write('module SECdecoder_location_%dbits(r, l);\\n'% (Bn))\n",
    "f.write('input \\t[%d:0]\\tr;\\n' % (BA-1))\n",
    "f.write('output\\treg\\tsigned\\t[%d:0]\\tl;\\n' % (B_location))\n",
    "\n",
    "f.write('always@(*) begin\\n')\n",
    "f.write('\\tcase(r)\\n')\n",
    "for i in range(np.size(GF131_positive)):\n",
    "    f.write(\"\\t\\t%d: l = %+d;\\n\" % (GF131_positive[i] ,plus_values131[i]))\n",
    "for j in range(np.size(GF131_negative)):\n",
    "    f.write(\"\\t\\t%d: l = %+d;\\n\" % (GF131_negative[j] ,minus_values131[j]))\n",
    "f.write(\"\\t\\tdefault: l = 0;\\n\")\n",
    "f.write('\\tendcase\\n')\n",
    "f.write('end\\n\\n')\n",
    "\n",
    "f.write('endmodule\\n')\n",
    "f.close();\n",
    "print('Module file %s is generated.\\n' % (fn))"
   ]
  },
  {
   "cell_type": "code",
   "execution_count": null,
   "id": "a3dec01a",
   "metadata": {},
   "outputs": [],
   "source": []
  }
 ],
 "metadata": {
  "kernelspec": {
   "display_name": "Python 3",
   "language": "python",
   "name": "python3"
  },
  "language_info": {
   "codemirror_mode": {
    "name": "ipython",
    "version": 3
   },
   "file_extension": ".py",
   "mimetype": "text/x-python",
   "name": "python",
   "nbconvert_exporter": "python",
   "pygments_lexer": "ipython3",
   "version": "3.12.4"
  }
 },
 "nbformat": 4,
 "nbformat_minor": 5
}
