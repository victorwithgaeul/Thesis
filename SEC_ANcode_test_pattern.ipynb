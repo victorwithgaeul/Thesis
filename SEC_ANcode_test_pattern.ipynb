{
 "cells": [
  {
   "cell_type": "markdown",
   "id": "e3f039be",
   "metadata": {},
   "source": [
    "### SEC_ANcode test pattern"
   ]
  },
  {
   "cell_type": "code",
   "execution_count": 5,
   "id": "a9287de3",
   "metadata": {},
   "outputs": [],
   "source": [
    "import math\n",
    "import numpy as np\n",
    "\n",
    "def bits_needed(number):\n",
    "    return number.bit_length()\n",
    "\n",
    "\n",
    "def bits_range(bits, signed=False):     ## 可選擇設定 有號數 或 無號數\n",
    "    if bits <= 0:\n",
    "        return \"位元數必須為正整數！\"\n",
    "    \n",
    "    if signed:\n",
    "        # 二補數範圍: -2^(bits-1) 到 2^(bits-1)-1\n",
    "        min_value = -(2**(bits - 1))\n",
    "        max_value = 2**(bits - 1) - 1\n",
    "    else:\n",
    "        # 無符號範圍: 0 到 2^bits - 1\n",
    "        min_value = 0\n",
    "        max_value = 2**bits - 1\n",
    "\n",
    "    return min_value, max_value"
   ]
  },
  {
   "cell_type": "markdown",
   "id": "f173b2bf",
   "metadata": {},
   "source": [
    "## 以24bits為例:"
   ]
  },
  {
   "cell_type": "code",
   "execution_count": 6,
   "id": "efbd2273",
   "metadata": {},
   "outputs": [
    {
     "name": "stdout",
     "output_type": "stream",
     "text": [
      "inputs1的位元數: 37\n",
      "inputs2的位元數: 37\n",
      "inputs3的位元數: 37\n",
      "1073741823\n"
     ]
    }
   ],
   "source": [
    "### 輸入數值為data, ANcode的A為AN\n",
    "### 乘完A後的數值為 input\n",
    "data1 = (1 << 30) - 1    ## \n",
    "data2 = (1 << 30) - 15\n",
    "data3 = (1 << 30) - 17\n",
    "AN = 83\n",
    "input1 = data1*AN\n",
    "input2 = data2*AN\n",
    "input3 = data3*AN\n",
    "bits1 = bits_needed(input1)\n",
    "bits2 = bits_needed(input2)\n",
    "bits3 = bits_needed(input3)\n",
    "print(\"inputs1的位元數:\", bits1)\n",
    "print(\"inputs2的位元數:\", bits2)\n",
    "print(\"inputs3的位元數:\", bits3)\n",
    "print(data1)"
   ]
  },
  {
   "cell_type": "code",
   "execution_count": 7,
   "id": "19a9906f",
   "metadata": {},
   "outputs": [
    {
     "name": "stdout",
     "output_type": "stream",
     "text": [
      "產生1-bit AWE: [1, -1, 2, -2, 4, -4, 8, -8, 16, -16, 32, -32, 64, -64, 128, -128, 256, -256, 512, -512, 1024, -1024, 2048, -2048, 4096, -4096, 8192, -8192, 16384, -16384, 32768, -32768, 65536, -65536, 131072, -131072, 262144, -262144, 524288, -524288, 1048576, -1048576, 2097152, -2097152, 4194304, -4194304, 8388608, -8388608, 16777216, -16777216, 33554432, -33554432, 67108864, -67108864, 134217728, -134217728, 268435456, -268435456, 536870912, -536870912, 1073741824, -1073741824, 2147483648, -2147483648, 4294967296, -4294967296, 8589934592, -8589934592, 17179869184, -17179869184, 34359738368, -34359738368, 68719476736, -68719476736]\n",
      "不同輸入資料的AWE是否相等: True\n",
      "[1, -1, 2, -2, 3, -3, 4, -4, 5, -5, 6, -6, 7, -7, 8, -8, 9, -9, 10, -10, 11, -11, 12, -12, 13, -13, 14, -14, 15, -15, 16, -16, 17, -17, 18, -18, 19, -19, 20, -20, 21, -21, 22, -22, 23, -23, 24, -24, 25, -25, 26, -26, 27, -27, 28, -28, 29, -29, 30, -30, 31, -31, 32, -32, 33, -33, 34, -34, 35, -35, 36, -36, 37, -37]\n",
      "74\n"
     ]
    }
   ],
   "source": [
    "AWE1_1=[]\n",
    "e1_1=0     ## 錯誤數量\n",
    "e1_data1=[]\n",
    "h = [];   #位置\n",
    "for i in range(0, bits1):\n",
    "    e1_data1.insert(e1_1 , input1 + 2**i)\n",
    "    AWE1_1.insert(e1_1, 2**i)\n",
    "    e1_1 = e1_1 + 1\n",
    "    e1_data1.insert(e1_1 , input1 - 2**i)\n",
    "    AWE1_1.insert(e1_1, -2**i)\n",
    "    e1_1 = e1_1 + 1\n",
    "    h.insert(i,i+1)\n",
    "\n",
    "AWE1_2=[]\n",
    "e1_2=0     ## 錯誤數量\n",
    "e1_data2=[]\n",
    "for i in range(0, bits2):\n",
    "    e1_data2.insert(e1_2 , input2 + 2**i)\n",
    "    AWE1_2.insert(e1_2, 2**i)\n",
    "    e1_2 = e1_2 + 1\n",
    "    e1_data2.insert(e1_2 , input2 - 2**i)\n",
    "    AWE1_2.insert(e1_2, -2**i)\n",
    "    e1_2 = e1_2 + 1\n",
    "    ### h.insert(i,i+1)\n",
    "    \n",
    "AWE1_3=[]\n",
    "e1_3=0     ## 錯誤數量\n",
    "e1_data3=[]\n",
    "for i in range(0, bits3):\n",
    "    e1_data3.insert(e1_3 , input3 + 2**i)\n",
    "    AWE1_3.insert(e1_3, 2**i)\n",
    "    e1_3 = e1_3 + 1\n",
    "    e1_data3.insert(e1_3 , input3 - 2**i)\n",
    "    AWE1_3.insert(e1_3, -2**i)\n",
    "    e1_3 = e1_3 + 1\n",
    "    ### h.insert(i,i+1)\n",
    "\n",
    "h_awe = [val for num in h for val in (num, -num)]\n",
    "print(\"產生1-bit AWE:\", AWE1_1)\n",
    "print(\"不同輸入資料的AWE是否相等:\",AWE1_1 == AWE1_2 == AWE1_3)\n",
    "print(h_awe)\n",
    "print(np.size(AWE1_1))"
   ]
  },
  {
   "cell_type": "code",
   "execution_count": 8,
   "id": "641d5a01",
   "metadata": {},
   "outputs": [],
   "source": [
    "# 寫入 txt 檔，每個數字一行\n",
    "with open(\"SEC_test_vectors.txt\", \"w\") as f:\n",
    "    for number in e1_data1:\n",
    "        f.write(f\"{number}\\n\")"
   ]
  },
  {
   "cell_type": "code",
   "execution_count": null,
   "id": "0c1f68e5",
   "metadata": {},
   "outputs": [],
   "source": []
  }
 ],
 "metadata": {
  "kernelspec": {
   "display_name": "base",
   "language": "python",
   "name": "python3"
  },
  "language_info": {
   "codemirror_mode": {
    "name": "ipython",
    "version": 3
   },
   "file_extension": ".py",
   "mimetype": "text/x-python",
   "name": "python",
   "nbconvert_exporter": "python",
   "pygments_lexer": "ipython3",
   "version": "3.11.7"
  }
 },
 "nbformat": 4,
 "nbformat_minor": 5
}
